{
 "cells": [
  {
   "cell_type": "code",
   "execution_count": 3,
   "source": [
    "import numpy as np\n",
    "from matplotlib import pyplot as plt"
   ],
   "outputs": [],
   "metadata": {}
  },
  {
   "cell_type": "markdown",
   "source": [
    "Série para a função da aula\n",
    "A função é uma combinação linear de euma função constante e de uma linear"
   ],
   "metadata": {}
  },
  {
   "cell_type": "code",
   "execution_count": 5,
   "source": [
    "def a0ret(L, d, c):\n",
    "    return 2*(d**2-c**2)*L/2"
   ],
   "outputs": [],
   "metadata": {}
  },
  {
   "cell_type": "code",
   "execution_count": 7,
   "source": [
    "def a0cte(L, d, c):\n",
    "    return 2*((d+1/2) - (c+1/2))*np.pi"
   ],
   "outputs": [],
   "metadata": {}
  },
  {
   "cell_type": "code",
   "execution_count": 9,
   "source": [
    "def ancte(cin,din,n,L):\n",
    "    c = cin + 1/2\n",
    "    d = din + 1/2\n",
    "    s1 = n * np.pi*d\n",
    "    s2 = n * np.pi*c\n",
    "    a1 = 1/(n*np.pi)*np.sin(s1)\n",
    "    a2 = 1/(n*np.pi)*np.sin(s2)\n",
    "    return 2*(a1-a2)*np.pi"
   ],
   "outputs": [],
   "metadata": {}
  },
  {
   "cell_type": "code",
   "execution_count": 11,
   "source": [
    "def anret(c,d,n,L):\n",
    "    s1 = n * np.pi*d\n",
    "    s2 = n * np.pi*c\n",
    "    a1 = (L/(np.pi**2*n**2))*(s1*np.sin(s1) + np.cos(s1))\n",
    "    a2 = (L/(np.pi**2*n**2))*(s2*np.sin(s2) + np.cos(s2))\n",
    "    return 2*(a1-a2)"
   ],
   "outputs": [],
   "metadata": {}
  },
  {
   "cell_type": "code",
   "execution_count": 13,
   "source": [
    "def bncte(cin,din,n,L):\n",
    "    c = cin + 1/2\n",
    "    d = din + 1/2\n",
    "    s1 = n * np.pi*d\n",
    "    s2 = n * np.pi*c\n",
    "    a1 = -1/(n*np.pi)*np.cos(s1)\n",
    "    a2 = -1/(n*np.pi)*np.cos(s2)\n",
    "    return 2*(a1-a2)*np.pi"
   ],
   "outputs": [],
   "metadata": {}
  },
  {
   "cell_type": "code",
   "execution_count": 15,
   "source": [
    "def bnret(c,d,n,L):\n",
    "    s1 = n * np.pi*d\n",
    "    s2 = n * np.pi*c\n",
    "    a1 = L/(np.pi**2*n**2)*(-s1*np.cos(s1) + np.sin(s1))\n",
    "    a2 = L/(np.pi**2*n**2)*(-s2*np.cos(s2) + np.sin(s2))\n",
    "    return 2*(a1-a2)"
   ],
   "outputs": [],
   "metadata": {}
  },
  {
   "cell_type": "code",
   "execution_count": 17,
   "source": [
    "def funa(c,d,n,L,t):\n",
    "    return (anret(c,d,n,L) + ancte(c,d,n,L))*np.cos(n*np.pi*t/L) "
   ],
   "outputs": [],
   "metadata": {}
  },
  {
   "cell_type": "code",
   "execution_count": 19,
   "source": [
    "def funb(c,d,n,L,t):\n",
    "    return (bnret(c,d,n,L) + bncte(c,d,n,L))*np.sin(n*np.pi*t/L)"
   ],
   "outputs": [],
   "metadata": {}
  },
  {
   "cell_type": "code",
   "execution_count": 21,
   "source": [
    "ns = np.arange(1,10)\n",
    "c = 0\n",
    "d = 1/2\n",
    "L = 2*np.pi\n",
    "t = 0"
   ],
   "outputs": [],
   "metadata": {}
  },
  {
   "cell_type": "code",
   "execution_count": 23,
   "source": [
    "def suma(c,d,ns,L,t):\n",
    "    return np.vectorize(lambda n:funa(c,d,n,L,t))(ns).sum()"
   ],
   "outputs": [],
   "metadata": {}
  },
  {
   "cell_type": "code",
   "execution_count": 25,
   "source": [
    "def sumb(c,d,ns,L,t):\n",
    "    return np.vectorize(lambda n:funb(c,d,n,L,t))(ns).sum()"
   ],
   "outputs": [],
   "metadata": {}
  },
  {
   "cell_type": "code",
   "execution_count": 27,
   "source": [
    "def fun(c,d,n,L,t):\n",
    "    ns = np.arange(1,n)\n",
    "    a = a0ret(L,d,c) + a0cte(L,d,c)\n",
    "    return suma(c,d,ns,L,t) + a/2"
   ],
   "outputs": [],
   "metadata": {}
  },
  {
   "cell_type": "code",
   "execution_count": 29,
   "source": [
    "def funsen(c,d,n,L,t):\n",
    "    ns = np.arange(1,n)\n",
    "    return sumb(c,d,ns,L,t)"
   ],
   "outputs": [],
   "metadata": {}
  },
  {
   "cell_type": "code",
   "execution_count": 31,
   "source": [
    "fun(c,d,50,L,8)"
   ],
   "outputs": [
    {
     "output_type": "execute_result",
     "data": {
      "text/plain": [
       "3.141497540867082"
      ]
     },
     "metadata": {},
     "execution_count": 31
    }
   ],
   "metadata": {}
  },
  {
   "cell_type": "code",
   "execution_count": 33,
   "source": [
    "ts = np.arange(0,2*np.pi,0.01)"
   ],
   "outputs": [],
   "metadata": {}
  },
  {
   "cell_type": "code",
   "execution_count": 35,
   "source": [
    "def actual(c,d,L,t):\n",
    "    if t < np.pi:\n",
    "        return t\n",
    "    else:\n",
    "        return np.pi"
   ],
   "outputs": [],
   "metadata": {}
  },
  {
   "cell_type": "code",
   "execution_count": 38,
   "source": [
    "truths = np.vectorize(lambda thist: actual(c,d,L,thist))(ts)"
   ],
   "outputs": [],
   "metadata": {}
  },
  {
   "cell_type": "code",
   "execution_count": 40,
   "source": [
    "func = np.vectorize(lambda thist: fun(c,d,100,L,thist))(ts)"
   ],
   "outputs": [],
   "metadata": {}
  },
  {
   "cell_type": "code",
   "execution_count": 64,
   "source": [
    "funs = np.vectorize(lambda thist: funsen(c,d,40,L,thist))(ts)"
   ],
   "outputs": [],
   "metadata": {}
  },
  {
   "cell_type": "code",
   "execution_count": 68,
   "source": [
    "plt.plot(ts,func)\n",
    "plt.plot(ts,funs)\n",
    "# plt.plot(ts,truths)"
   ],
   "outputs": [
    {
     "output_type": "execute_result",
     "data": {
      "text/plain": [
       "[<matplotlib.lines.Line2D at 0x1146e68e0>]"
      ]
     },
     "metadata": {},
     "execution_count": 68
    },
    {
     "output_type": "display_data",
     "data": {
      "image/png": "[encoded data removed]",
      "text/plain": [
       "<Figure size 432x288 with 1 Axes>"
      ]
     },
     "metadata": {
      "needs_background": "light"
     }
    }
   ],
   "metadata": {}
  },
  {
   "cell_type": "code",
   "execution_count": null,
   "source": [],
   "outputs": [],
   "metadata": {}
  }
 ],
 "metadata": {
  "orig_nbformat": 4,
  "language_info": {
   "name": "python",
   "version": "3.9.6",
   "mimetype": "text/x-python",
   "codemirror_mode": {
    "name": "ipython",
    "version": 3
   },
   "pygments_lexer": "ipython3",
   "nbconvert_exporter": "python",
   "file_extension": ".py"
  },
  "kernelspec": {
   "name": "python3",
   "display_name": "Python 3.9.6 64-bit ('map': conda)"
  },
  "interpreter": {
   "hash": "b7b8ec1cbacaefc914c8d4856812e66ebdce76ecfb6adf92339a51c934bef450"
  }
 },
 "nbformat": 4,
 "nbformat_minor": 2
}