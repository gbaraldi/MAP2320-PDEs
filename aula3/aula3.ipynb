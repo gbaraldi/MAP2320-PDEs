{
 "cells": [
  {
   "cell_type": "code",
   "execution_count": 4,
   "source": [
    "import numpy as np\n",
    "from matplotlib import pyplot as plt"
   ],
   "outputs": [],
   "metadata": {}
  },
  {
   "cell_type": "markdown",
   "source": [
    "Série de Fourier para t"
   ],
   "metadata": {}
  },
  {
   "cell_type": "code",
   "execution_count": 17,
   "source": [
    "def a0(L, d, c):\n",
    "    return (d**2-c**2)*L/2"
   ],
   "outputs": [],
   "metadata": {}
  },
  {
   "cell_type": "code",
   "execution_count": 256,
   "source": [
    "def an(c,d,n,L):\n",
    "    s1 = n * np.pi*d\n",
    "    s2 = n * np.pi*c\n",
    "    a1 = (L/(np.pi**2*n**2))*(s1*np.sin(s1) + np.cos(s1))\n",
    "    a2 = (L/(np.pi**2*n**2))*(s2*np.sin(s2) + np.cos(s2))\n",
    "    return a1-a2"
   ],
   "outputs": [],
   "metadata": {}
  },
  {
   "cell_type": "code",
   "execution_count": 259,
   "source": [
    "def bn(c,d,n,L):\n",
    "    s1 = n * np.pi*d\n",
    "    s2 = n * np.pi*c\n",
    "    a1 = L/(np.pi**2*n**2)*(-s1*np.cos(s1) + np.sin(s1))\n",
    "    a2 = L/(np.pi**2*n**2)*(-s2*np.cos(s2) + np.sin(s2))\n",
    "    return a1-a2"
   ],
   "outputs": [],
   "metadata": {}
  },
  {
   "cell_type": "code",
   "execution_count": 27,
   "source": [
    "def funa(c,d,n,L,t):\n",
    "    return an(c,d,n,L)*np.cos(n*np.pi*t/L)"
   ],
   "outputs": [],
   "metadata": {}
  },
  {
   "cell_type": "code",
   "execution_count": 29,
   "source": [
    "def funb(c,d,n,L,t):\n",
    "    return bn(c,d,n,L)*np.sin(n*np.pi*t/L)"
   ],
   "outputs": [],
   "metadata": {}
  },
  {
   "cell_type": "code",
   "execution_count": 184,
   "source": [
    "ns = np.arange(1,10)\n",
    "c = 0\n",
    "d = 1\n",
    "L = np.pi\n",
    "t = 0"
   ],
   "outputs": [],
   "metadata": {}
  },
  {
   "cell_type": "code",
   "execution_count": 109,
   "source": [
    "def suma(c,d,ns,L,t):\n",
    "    return np.vectorize(lambda n:funa(c,d,n,L,t))(ns).sum()"
   ],
   "outputs": [],
   "metadata": {}
  },
  {
   "cell_type": "code",
   "execution_count": 112,
   "source": [
    "def sumb(c,d,ns,L,t):\n",
    "    return np.vectorize(lambda n:funb(c,d,n,L,t))(ns).sum()"
   ],
   "outputs": [],
   "metadata": {}
  },
  {
   "cell_type": "code",
   "execution_count": 115,
   "source": [
    "def fun(c,d,n,L,t):\n",
    "    ns = np.arange(1,n)\n",
    "    a = a0(L,d,c)\n",
    "    return suma(c,d,ns,L,t) + sumb(c,d,ns,L,t) + a/2"
   ],
   "outputs": [],
   "metadata": {}
  },
  {
   "cell_type": "code",
   "execution_count": 244,
   "source": [
    "fun(c,d,50,L,8)"
   ],
   "outputs": [
    {
     "output_type": "execute_result",
     "data": {
      "text/plain": [
       "0.7853981633974483"
      ]
     },
     "metadata": {},
     "execution_count": 244
    }
   ],
   "metadata": {}
  },
  {
   "cell_type": "code",
   "execution_count": 121,
   "source": [
    "ts = np.arange(-3*np.pi,3*np.pi,0.01)"
   ],
   "outputs": [],
   "metadata": {}
  },
  {
   "cell_type": "code",
   "execution_count": 460,
   "source": [
    "def actual(c,d,L,t):\n",
    "    myt = np.mod(t,2*np.pi) \n",
    "    if myt < np.pi:\n",
    "        return myt\n",
    "    else:\n",
    "        return 0."
   ],
   "outputs": [],
   "metadata": {}
  },
  {
   "cell_type": "code",
   "execution_count": 463,
   "source": [
    "truths = np.vectorize(lambda thist: actual(c,d,L,thist))(ts)"
   ],
   "outputs": [],
   "metadata": {}
  },
  {
   "cell_type": "code",
   "execution_count": 340,
   "source": [
    "func = np.vectorize(lambda thist: fun(c,d,100,L,thist))(ts)"
   ],
   "outputs": [],
   "metadata": {}
  },
  {
   "cell_type": "code",
   "execution_count": 466,
   "source": [
    "plt.plot(ts,func)\n",
    "plt.plot(ts,truths)"
   ],
   "outputs": [
    {
     "output_type": "execute_result",
     "data": {
      "text/plain": [
       "[<matplotlib.lines.Line2D at 0x1209f12e0>]"
      ]
     },
     "metadata": {},
     "execution_count": 466
    },
    {
     "output_type": "display_data",
     "data": {
      "image/png": "[encoded data removed]",
      "text/plain": [
       "<Figure size 432x288 with 1 Axes>"
      ]
     },
     "metadata": {
      "needs_background": "light"
     }
    }
   ],
   "metadata": {}
  }
 ],
 "metadata": {
  "orig_nbformat": 4,
  "language_info": {
   "name": "python",
   "version": "3.9.6",
   "mimetype": "text/x-python",
   "codemirror_mode": {
    "name": "ipython",
    "version": 3
   },
   "pygments_lexer": "ipython3",
   "nbconvert_exporter": "python",
   "file_extension": ".py"
  },
  "kernelspec": {
   "name": "python3",
   "display_name": "Python 3.9.6 64-bit ('map': conda)"
  },
  "interpreter": {
   "hash": "b7b8ec1cbacaefc914c8d4856812e66ebdce76ecfb6adf92339a51c934bef450"
  }
 },
 "nbformat": 4,
 "nbformat_minor": 2
}