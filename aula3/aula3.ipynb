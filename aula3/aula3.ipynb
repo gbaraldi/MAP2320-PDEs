{
 "cells": [
  {
   "cell_type": "code",
   "execution_count": 4,
   "source": [
    "import numpy as np\n",
    "from matplotlib import pyplot as plt"
   ],
   "outputs": [],
   "metadata": {}
  },
  {
   "cell_type": "markdown",
   "source": [
    "Série de Fourier para t"
   ],
   "metadata": {}
  },
  {
   "cell_type": "code",
   "execution_count": 17,
   "source": [
    "def a0(L, d, c):\n",
    "    return (d**2-c**2)*L/2"
   ],
   "outputs": [],
   "metadata": {}
  },
  {
   "cell_type": "code",
   "execution_count": 256,
   "source": [
    "def an(c,d,n,L):\n",
    "    s1 = n * np.pi*d\n",
    "    s2 = n * np.pi*c\n",
    "    a1 = (L/(np.pi**2*n**2))*(s1*np.sin(s1) + np.cos(s1))\n",
    "    a2 = (L/(np.pi**2*n**2))*(s2*np.sin(s2) + np.cos(s2))\n",
    "    return a1-a2"
   ],
   "outputs": [],
   "metadata": {}
  },
  {
   "cell_type": "code",
   "execution_count": 226,
   "source": [
    "an(L,d,c,1)"
   ],
   "outputs": [
    {
     "output_type": "execute_result",
     "data": {
      "text/plain": [
       "-0.6366197723675813"
      ]
     },
     "metadata": {},
     "execution_count": 226
    }
   ],
   "metadata": {}
  },
  {
   "cell_type": "code",
   "execution_count": 235,
   "source": [
    "bn(L,d,c,1)"
   ],
   "outputs": [
    {
     "output_type": "execute_result",
     "data": {
      "text/plain": [
       "1.0"
      ]
     },
     "metadata": {},
     "execution_count": 235
    }
   ],
   "metadata": {}
  },
  {
   "cell_type": "code",
   "execution_count": 160,
   "source": [
    "a1 = (L/(np.pi**2*1**2))*(s1*np.sin(s1) + np.cos(s1))\n",
    "a1"
   ],
   "outputs": [
    {
     "output_type": "execute_result",
     "data": {
      "text/plain": [
       "0.3183098861837907"
      ]
     },
     "metadata": {},
     "execution_count": 160
    }
   ],
   "metadata": {}
  },
  {
   "cell_type": "code",
   "execution_count": 259,
   "source": [
    "def bn(c,d,n,L):\n",
    "    s1 = n * np.pi*d\n",
    "    s2 = n * np.pi*c\n",
    "    a1 = L/(np.pi**2*n**2)*(-s1*np.cos(s1) + np.sin(s1))\n",
    "    a2 = L/(np.pi**2*n**2)*(-s2*np.cos(s2) + np.sin(s2))\n",
    "    return a1-a2"
   ],
   "outputs": [],
   "metadata": {}
  },
  {
   "cell_type": "code",
   "execution_count": 27,
   "source": [
    "def funa(c,d,n,L,t):\n",
    "    return an(c,d,n,L)*np.cos(n*np.pi*t/L)"
   ],
   "outputs": [],
   "metadata": {}
  },
  {
   "cell_type": "code",
   "execution_count": 29,
   "source": [
    "def funb(c,d,n,L,t):\n",
    "    return bn(c,d,n,L)*np.sin(n*np.pi*t/L)"
   ],
   "outputs": [],
   "metadata": {}
  },
  {
   "cell_type": "code",
   "execution_count": 184,
   "source": [
    "ns = np.arange(1,10)\n",
    "c = 0\n",
    "d = 1\n",
    "L = np.pi\n",
    "t = 0"
   ],
   "outputs": [],
   "metadata": {}
  },
  {
   "cell_type": "code",
   "execution_count": 250,
   "source": [
    "funa(c,d,1,L,0)"
   ],
   "outputs": [
    {
     "output_type": "execute_result",
     "data": {
      "text/plain": [
       "0.0"
      ]
     },
     "metadata": {},
     "execution_count": 250
    }
   ],
   "metadata": {}
  },
  {
   "cell_type": "code",
   "execution_count": 109,
   "source": [
    "def suma(c,d,ns,L,t):\n",
    "    return np.vectorize(lambda n:funa(c,d,n,L,t))(ns).sum()"
   ],
   "outputs": [],
   "metadata": {}
  },
  {
   "cell_type": "code",
   "execution_count": 112,
   "source": [
    "def sumb(c,d,ns,L,t):\n",
    "    return np.vectorize(lambda n:funb(c,d,n,L,t))(ns).sum()"
   ],
   "outputs": [],
   "metadata": {}
  },
  {
   "cell_type": "code",
   "execution_count": 115,
   "source": [
    "def fun(c,d,n,L,t):\n",
    "    ns = np.arange(1,n)\n",
    "    a = a0(L,d,c)\n",
    "    return suma(c,d,ns,L,t) + sumb(c,d,ns,L,t) + a/2"
   ],
   "outputs": [],
   "metadata": {}
  },
  {
   "cell_type": "code",
   "execution_count": 244,
   "source": [
    "fun(c,d,50,L,8)"
   ],
   "outputs": [
    {
     "output_type": "execute_result",
     "data": {
      "text/plain": [
       "0.7853981633974483"
      ]
     },
     "metadata": {},
     "execution_count": 244
    }
   ],
   "metadata": {}
  },
  {
   "cell_type": "code",
   "execution_count": 121,
   "source": [
    "ts = np.arange(-3*np.pi,3*np.pi,0.01)"
   ],
   "outputs": [],
   "metadata": {}
  },
  {
   "cell_type": "code",
   "execution_count": 271,
   "source": [
    "def actual(c,d,L,t):\n",
    "    if (c*L)<t and t < d*L:\n",
    "        return t\n",
    "    else:\n",
    "        return 0."
   ],
   "outputs": [],
   "metadata": {}
  },
  {
   "cell_type": "code",
   "execution_count": 274,
   "source": [
    "truths = np.vectorize(lambda thist: actual(c,d,L,thist))(ts)"
   ],
   "outputs": [],
   "metadata": {}
  },
  {
   "cell_type": "code",
   "execution_count": 262,
   "source": [
    "func = np.vectorize(lambda thist: fun(c,d,100,L,thist))(ts)"
   ],
   "outputs": [],
   "metadata": {}
  },
  {
   "cell_type": "code",
   "execution_count": 277,
   "source": [
    "plt.plot(ts,func)\n",
    "plt.plot(ts,truths)"
   ],
   "outputs": [
    {
     "output_type": "execute_result",
     "data": {
      "text/plain": [
       "[<matplotlib.lines.Line2D at 0x120603130>]"
      ]
     },
     "metadata": {},
     "execution_count": 277
    },
    {
     "output_type": "display_data",
     "data": {
      "image/png": "[encoded data removed]",
      "text/plain": [
       "<Figure size 432x288 with 1 Axes>"
      ]
     },
     "metadata": {
      "needs_background": "light"
     }
    }
   ],
   "metadata": {}
  },
  {
   "cell_type": "code",
   "execution_count": null,
   "source": [],
   "outputs": [],
   "metadata": {}
  }
 ],
 "metadata": {
  "orig_nbformat": 4,
  "language_info": {
   "name": "python",
   "version": "3.9.6",
   "mimetype": "text/x-python",
   "codemirror_mode": {
    "name": "ipython",
    "version": 3
   },
   "pygments_lexer": "ipython3",
   "nbconvert_exporter": "python",
   "file_extension": ".py"
  },
  "kernelspec": {
   "name": "python3",
   "display_name": "Python 3.9.6 64-bit ('map': conda)"
  },
  "interpreter": {
   "hash": "b7b8ec1cbacaefc914c8d4856812e66ebdce76ecfb6adf92339a51c934bef450"
  }
 },
 "nbformat": 4,
 "nbformat_minor": 2
}