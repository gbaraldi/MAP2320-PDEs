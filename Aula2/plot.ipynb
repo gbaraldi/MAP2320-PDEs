{
 "cells": [
  {
   "cell_type": "code",
   "execution_count": 1,
   "source": [
    "import numpy as np\n",
    "from matplotlib import pyplot as plt"
   ],
   "outputs": [],
   "metadata": {}
  },
  {
   "cell_type": "code",
   "execution_count": 2,
   "source": [
    "def bn(c,d,n,L):\n",
    "    part1 = 2*np.pi*n*(d*np.sin(np.pi*d*n) - c*np.sin(np.pi*c*n))+ (2-(np.pi**2)*d**2*n**2)*np.cos(np.pi*d*n)\n",
    "    return L**2 * ((np.pi** 2 * c**2 * n**2 -2)*np.cos(np.pi*c*n) + part1 )/(np.pi**3 * n**3)"
   ],
   "outputs": [],
   "metadata": {}
  },
  {
   "cell_type": "code",
   "execution_count": 3,
   "source": [
    "def an(c,d,n,L):\n",
    "    part1 = -2*np.pi*n*c*(np.cos(np.pi*c*n))+ (np.pi**2*d**2*n**2 -2)*np.sin(np.pi*d*n) + 2*np.pi*d*n*np.cos(np.pi*d*n)\n",
    "    return L**2 * ((2 - np.pi** 2 * c**2 * n**2)*np.sin(np.pi*c*n) + part1 )/(np.pi**3 * n**3)"
   ],
   "outputs": [],
   "metadata": {}
  },
  {
   "cell_type": "code",
   "execution_count": 4,
   "source": [
    "def a0(c,d,L):\n",
    "    return L**2*(d**3-c**3)/3\n"
   ],
   "outputs": [],
   "metadata": {}
  },
  {
   "cell_type": "code",
   "execution_count": 5,
   "source": [
    "def funa(c,d,n,L,t):\n",
    "    return an(c,d,n,L)*np.cos(n*np.pi*t/L)"
   ],
   "outputs": [],
   "metadata": {}
  },
  {
   "cell_type": "code",
   "execution_count": 6,
   "source": [
    "def funb(c,d,n,L,t):\n",
    "    return bn(c,d,n,L)*np.sin(n*np.pi*t/L)"
   ],
   "outputs": [],
   "metadata": {}
  },
  {
   "cell_type": "code",
   "execution_count": 7,
   "source": [
    "ns = np.arange(1,10)\n",
    "c = -0.5\n",
    "d = 0.5\n",
    "L = np.pi\n",
    "t = 0"
   ],
   "outputs": [],
   "metadata": {}
  },
  {
   "cell_type": "code",
   "execution_count": 8,
   "source": [
    "def suma(c,d,ns,L,t):\n",
    "    return np.vectorize(lambda n:funa(c,d,n,L,t))(ns).sum()"
   ],
   "outputs": [],
   "metadata": {}
  },
  {
   "cell_type": "code",
   "execution_count": 9,
   "source": [
    "def sumb(c,d,ns,L,t):\n",
    "    return np.vectorize(lambda n:funb(c,d,n,L,t))(ns).sum()"
   ],
   "outputs": [],
   "metadata": {}
  },
  {
   "cell_type": "code",
   "execution_count": 10,
   "source": [
    "def fun(c,d,n,L,t):\n",
    "    ns = np.arange(1,n)\n",
    "    a0 = L**2*(d**3 - c**3)/3\n",
    "    return suma(c,d,ns,L,t) + sumb(c,d,ns,L,t) + a0/2"
   ],
   "outputs": [],
   "metadata": {}
  },
  {
   "cell_type": "code",
   "execution_count": 11,
   "source": [
    "fun(c,d,50,L,t)"
   ],
   "outputs": [
    {
     "output_type": "execute_result",
     "data": {
      "text/plain": [
       "0.016112586314373123"
      ]
     },
     "metadata": {},
     "execution_count": 11
    }
   ],
   "metadata": {}
  },
  {
   "cell_type": "code",
   "execution_count": 12,
   "source": [
    "ts = np.arange(-3,3,0.01)"
   ],
   "outputs": [],
   "metadata": {}
  },
  {
   "cell_type": "code",
   "execution_count": 13,
   "source": [
    "len(ts)"
   ],
   "outputs": [
    {
     "output_type": "execute_result",
     "data": {
      "text/plain": [
       "600"
      ]
     },
     "metadata": {},
     "execution_count": 13
    }
   ],
   "metadata": {}
  },
  {
   "cell_type": "code",
   "execution_count": 14,
   "source": [
    "def actual(c,d,L,t):\n",
    "    if (c*L)<t and t < d*L:\n",
    "        return t**2\n",
    "    else:\n",
    "        return 0."
   ],
   "outputs": [],
   "metadata": {}
  },
  {
   "cell_type": "code",
   "execution_count": 15,
   "source": [
    "truths = np.vectorize(lambda thist: actual(c,d,L,thist))(ts)"
   ],
   "outputs": [],
   "metadata": {}
  },
  {
   "cell_type": "code",
   "execution_count": 16,
   "source": [
    "plt.plot(truths)"
   ],
   "outputs": [
    {
     "output_type": "execute_result",
     "data": {
      "text/plain": [
       "[<matplotlib.lines.Line2D at 0x116980df0>]"
      ]
     },
     "metadata": {},
     "execution_count": 16
    },
    {
     "output_type": "display_data",
     "data": {
      "image/png": "[encoded data removed]",
      "text/plain": [
       "<Figure size 432x288 with 1 Axes>"
      ]
     },
     "metadata": {
      "needs_background": "light"
     }
    }
   ],
   "metadata": {}
  },
  {
   "cell_type": "code",
   "execution_count": 34,
   "source": [
    "func = np.vectorize(lambda thist: fun(c,d,200,L,thist))(ts)"
   ],
   "outputs": [],
   "metadata": {}
  },
  {
   "cell_type": "code",
   "execution_count": 35,
   "source": [
    "# plt.plot(truths)\n",
    "plt.plot(func)"
   ],
   "outputs": [
    {
     "output_type": "execute_result",
     "data": {
      "text/plain": [
       "[<matplotlib.lines.Line2D at 0x11742e970>]"
      ]
     },
     "metadata": {},
     "execution_count": 35
    },
    {
     "output_type": "display_data",
     "data": {
      "image/png": "[encoded data removed]",
      "text/plain": [
       "<Figure size 432x288 with 1 Axes>"
      ]
     },
     "metadata": {
      "needs_background": "light"
     }
    }
   ],
   "metadata": {}
  },
  {
   "cell_type": "code",
   "execution_count": null,
   "source": [],
   "outputs": [],
   "metadata": {}
  },
  {
   "cell_type": "code",
   "execution_count": null,
   "source": [],
   "outputs": [],
   "metadata": {}
  }
 ],
 "metadata": {
  "orig_nbformat": 4,
  "language_info": {
   "name": "python",
   "version": "3.9.6",
   "mimetype": "text/x-python",
   "codemirror_mode": {
    "name": "ipython",
    "version": 3
   },
   "pygments_lexer": "ipython3",
   "nbconvert_exporter": "python",
   "file_extension": ".py"
  },
  "kernelspec": {
   "name": "python3",
   "display_name": "Python 3.9.6 64-bit ('map': conda)"
  },
  "interpreter": {
   "hash": "b7b8ec1cbacaefc914c8d4856812e66ebdce76ecfb6adf92339a51c934bef450"
  }
 },
 "nbformat": 4,
 "nbformat_minor": 2
}